{
 "cells": [
  {
   "cell_type": "markdown",
   "metadata": {},
   "source": [
    "Let's go ahead and do an example problem. Say you are at a casino and are in charge of monitoring a craps(a dice game where two dice are rolled). You are suspcious that a player may have switched out the casino's dice for their own. How do we use the Chi-Square test to check whether or not this player is cheating?\n",
    "\n",
    "You will need some observations in order to begin. You begin to keep track of this player's roll outcomes.You record the next 500 rolls taking note of the sum of the dice roll result and the number of times it occurs.\n",
    "\n",
    "You record the following:\n",
    "\n",
    "Sum of Dice Roll\t2\t3\t4\t5\t6\t7\t8\t9\t10\t11\t12\n",
    "Number of Times Observed\t8\t32\t48\t59\t67\t84\t76\t57\t34\t28\t7\n",
    "Now we also know the espected frequency of these sums for a fair dice. That frequency distribution looks like this:\n",
    "\n",
    "Sum of Dice Roll\t2\t3\t4\t5\t6\t7\t8\t9\t10\t11\t12\n",
    "Expected Frequency\t1/36\t2/36\t3/36\t4/36\t5/36\t6/36\t5/36\t4/36\t3/36\t2/36\t1/36\n",
    "Now we can calculated the expected number of rolls by multiplying the expected frequency with the total sum of the rolls (500 rolls)."
   ]
  },
  {
   "cell_type": "code",
   "execution_count": 1,
   "metadata": {
    "collapsed": false
   },
   "outputs": [
    {
     "data": {
      "text/plain": [
       "500"
      ]
     },
     "execution_count": 1,
     "metadata": {},
     "output_type": "execute_result"
    }
   ],
   "source": [
    "# check the sum of the rolls\n",
    "observed = [8,32,48,59,67,84,76,57,34,28,7]\n",
    "roll_sum = sum(observed)\n",
    "roll_sum"
   ]
  },
  {
   "cell_type": "code",
   "execution_count": 2,
   "metadata": {
    "collapsed": false
   },
   "outputs": [
    {
     "data": {
      "text/plain": [
       "[0.027777777777777776,\n",
       " 0.05555555555555555,\n",
       " 0.08333333333333333,\n",
       " 0.1111111111111111,\n",
       " 0.1388888888888889,\n",
       " 0.16666666666666666,\n",
       " 0.1388888888888889,\n",
       " 0.1111111111111111,\n",
       " 0.08333333333333333,\n",
       " 0.05555555555555555,\n",
       " 0.027777777777777776]"
      ]
     },
     "execution_count": 2,
     "metadata": {},
     "output_type": "execute_result"
    }
   ],
   "source": [
    "# The expected frequency\n",
    "freq = [1,2,3,4,5,6,5,4,3,2,1]\n",
    "\n",
    "# using float because of python 2.7 division\n",
    "possible_rolls = 1.0/36\n",
    "\n",
    "freq = [possible_rolls*dice for dice in freq]\n",
    "\n",
    "# check\n",
    "freq"
   ]
  },
  {
   "cell_type": "markdown",
   "metadata": {},
   "source": [
    "Now multiply frequency by the sum to get the expected number of rolls for each frequency"
   ]
  },
  {
   "cell_type": "code",
   "execution_count": 3,
   "metadata": {
    "collapsed": false
   },
   "outputs": [
    {
     "data": {
      "text/plain": [
       "[13.888888888888888,\n",
       " 27.777777777777775,\n",
       " 41.666666666666664,\n",
       " 55.55555555555555,\n",
       " 69.44444444444444,\n",
       " 83.33333333333333,\n",
       " 69.44444444444444,\n",
       " 55.55555555555555,\n",
       " 41.666666666666664,\n",
       " 27.777777777777775,\n",
       " 13.888888888888888]"
      ]
     },
     "execution_count": 3,
     "metadata": {},
     "output_type": "execute_result"
    }
   ],
   "source": [
    "expected = [roll_sum*f for f in freq]\n",
    "expected"
   ]
  },
  {
   "cell_type": "code",
   "execution_count": 5,
   "metadata": {
    "collapsed": false
   },
   "outputs": [
    {
     "name": "stdout",
     "output_type": "stream",
     "text": [
      "The chi-squared test statistic is 9.89\n",
      "The p-value for the test is 0.45\n"
     ]
    }
   ],
   "source": [
    "# now use scipy to perform the Chi Square Test\n",
    "\n",
    "from scipy import stats\n",
    "\n",
    "chisq,p = stats.chisquare(observed,expected)\n",
    "\n",
    "print 'The chi-squared test statistic is %.2f' %chisq\n",
    "print 'The p-value for the test is %.2f' %p"
   ]
  },
  {
   "cell_type": "markdown",
   "metadata": {},
   "source": [
    "Since p-value is high, we have no reason to doubt the fairness of the dice."
   ]
  },
  {
   "cell_type": "markdown",
   "metadata": {},
   "source": [
    "More resources:\n",
    "Wikipedia http://en.wikipedia.org/wiki/Chi-squared_test\n",
    "Stat trek http://stattrek.com/chi-square-test/independence.aspx\n",
    "Khan Academy https://www.khanacademy.org/math/probability/statistics-inferential/chi-square/v/pearson-s-chi-square-test-goodness-of-fit"
   ]
  },
  {
   "cell_type": "code",
   "execution_count": null,
   "metadata": {
    "collapsed": true
   },
   "outputs": [],
   "source": []
  }
 ],
 "metadata": {
  "kernelspec": {
   "display_name": "Python 2",
   "language": "python",
   "name": "python2"
  },
  "language_info": {
   "codemirror_mode": {
    "name": "ipython",
    "version": 2
   },
   "file_extension": ".py",
   "mimetype": "text/x-python",
   "name": "python",
   "nbconvert_exporter": "python",
   "pygments_lexer": "ipython2",
   "version": "2.7.10"
  }
 },
 "nbformat": 4,
 "nbformat_minor": 0
}
