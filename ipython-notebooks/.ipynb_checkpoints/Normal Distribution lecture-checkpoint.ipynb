{
 "cells": [
  {
   "cell_type": "markdown",
   "metadata": {},
   "source": [
    "\n",
    "Let's look at the curve. The normal distribution has several characteristics:\n",
    "\n",
    "1.) It has a lower tail (on the left) and an upper tail (on the right)\n",
    "\n",
    "2.) The curve is symmetric (for the theoretical distribution)\n",
    "\n",
    "3.) The peak occurs at the mean.\n",
    "\n",
    "4.) The standard deviation gives the curve a different shape:\n",
    "    -Narrow and tall for a smaller standard deviation.\n",
    "    -Shallower and fatter for a larger standard deviation.\n",
    "\n",
    "5.) The area under the curve is equal to 1 (the total probaility space)\n",
    "\n",
    "6.) The mean=median=mode."
   ]
  },
  {
   "cell_type": "code",
   "execution_count": 1,
   "metadata": {
    "collapsed": false
   },
   "outputs": [
    {
     "data": {
      "text/html": [
       "<img src=\"http://upload.wikimedia.org/wikipedia/commons/thumb/2/25/The_Normal_Distribution.svg/725px-The_Normal_Distribution.svg.png\"/>"
      ],
      "text/plain": [
       "<IPython.core.display.Image object>"
      ]
     },
     "execution_count": 1,
     "metadata": {},
     "output_type": "execute_result"
    }
   ],
   "source": [
    "from IPython.display import Image\n",
    "Image(url='http://upload.wikimedia.org/wikipedia/commons/thumb/2/25/The_Normal_Distribution.svg/725px-The_Normal_Distribution.svg.png')"
   ]
  },
  {
   "cell_type": "code",
   "execution_count": 3,
   "metadata": {
    "collapsed": false
   },
   "outputs": [
    {
     "data": {
      "text/plain": [
       "[<matplotlib.lines.Line2D at 0x109ce5a10>]"
      ]
     },
     "execution_count": 3,
     "metadata": {},
     "output_type": "execute_result"
    },
    {
     "data": {
      "image/png": "[encoded data removed]",
      "text/plain": [
       "<matplotlib.figure.Figure at 0x109ce5990>"
      ]
     },
     "metadata": {},
     "output_type": "display_data"
    }
   ],
   "source": [
    "# use scipy to create a normal distribution\n",
    "import numpy as np\n",
    "import matplotlib as mpl\n",
    "import matplotlib.pyplot as plt\n",
    "%matplotlib inline\n",
    "\n",
    "# import stats library\n",
    "from scipy import stats\n",
    "\n",
    "# set the mean\n",
    "mean = 0\n",
    "\n",
    "# set the standard deviation\n",
    "std = 1\n",
    "\n",
    "# create a range\n",
    "X = np.arange(-4,4,0.01)\n",
    "\n",
    "# create the normal distribution for the range\n",
    "Y = stats.norm.pdf(X,mean,std)\n",
    "\n",
    "plt.plot(X,Y)"
   ]
  },
  {
   "cell_type": "code",
   "execution_count": 5,
   "metadata": {
    "collapsed": false
   },
   "outputs": [
    {
     "data": {
      "text/plain": [
       "(array([  3.,   1.,   1.,   2.,   2.,   3.,   5.,   7.,  12.,  10.,  12.,\n",
       "         13.,  26.,  19.,  23.,  22.,  45.,  35.,  38.,  37.,  53.,  49.,\n",
       "         56.,  52.,  48.,  44.,  50.,  47.,  44.,  31.,  34.,  34.,  21.,\n",
       "         21.,  24.,  14.,  16.,  13.,   5.,   7.,   3.,   4.,   2.,   2.,\n",
       "          6.,   2.,   0.,   0.,   1.,   1.]),\n",
       " array([-0.28958982, -0.27701856, -0.2644473 , -0.25187604, -0.23930478,\n",
       "        -0.22673352, -0.21416226, -0.201591  , -0.18901975, -0.17644849,\n",
       "        -0.16387723, -0.15130597, -0.13873471, -0.12616345, -0.11359219,\n",
       "        -0.10102093, -0.08844967, -0.07587842, -0.06330716, -0.0507359 ,\n",
       "        -0.03816464, -0.02559338, -0.01302212, -0.00045086,  0.0121204 ,\n",
       "         0.02469165,  0.03726291,  0.04983417,  0.06240543,  0.07497669,\n",
       "         0.08754795,  0.10011921,  0.11269047,  0.12526172,  0.13783298,\n",
       "         0.15040424,  0.1629755 ,  0.17554676,  0.18811802,  0.20068928,\n",
       "         0.21326054,  0.22583179,  0.23840305,  0.25097431,  0.26354557,\n",
       "         0.27611683,  0.28868809,  0.30125935,  0.31383061,  0.32640187,\n",
       "         0.33897312]),\n",
       " <a list of 50 Patch objects>)"
      ]
     },
     "execution_count": 5,
     "metadata": {},
     "output_type": "execute_result"
    },
    {
     "data": {
      "image/png": "[encoded data removed]",
      "text/plain": [
       "<matplotlib.figure.Figure at 0x109d4b110>"
      ]
     },
     "metadata": {},
     "output_type": "display_data"
    }
   ],
   "source": [
    "# now use numpy to create normal distribution\n",
    "import numpy as np\n",
    "\n",
    "# set mean and standard deviation\n",
    "mu,sigma = 0,0.1\n",
    "\n",
    "# now grab 1000 random numbers from the normal distribution\n",
    "norm_set = np.random.normal(mu,sigma,1000)\n",
    "\n",
    "import seaborn as sns\n",
    "\n",
    "plt.hist(norm_set,bins=50)"
   ]
  },
  {
   "cell_type": "markdown",
   "metadata": {},
   "source": [
    "\n",
    "There's a ton on information to go over for the normal distribution, this notebook should just serve as a very mild introduction, for more info check out the following sources:\n",
    "\n",
    "1.) http://en.wikipedia.org/wiki/Normal_distribution\n",
    "\n",
    "2.) http://mathworld.wolfram.com/NormalDistribution.html\n",
    "\n",
    "3.) http://stattrek.com/probability-distributions/normal.aspx"
   ]
  },
  {
   "cell_type": "code",
   "execution_count": null,
   "metadata": {
    "collapsed": true
   },
   "outputs": [],
   "source": []
  }
 ],
 "metadata": {
  "kernelspec": {
   "display_name": "Python 2",
   "language": "python",
   "name": "python2"
  },
  "language_info": {
   "codemirror_mode": {
    "name": "ipython",
    "version": 2
   },
   "file_extension": ".py",
   "mimetype": "text/x-python",
   "name": "python",
   "nbconvert_exporter": "python",
   "pygments_lexer": "ipython2",
   "version": "2.7.10"
  }
 },
 "nbformat": 4,
 "nbformat_minor": 0
}
