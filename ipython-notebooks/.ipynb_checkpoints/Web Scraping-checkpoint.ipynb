{
 "cells": [
  {
   "cell_type": "code",
   "execution_count": 3,
   "metadata": {
    "collapsed": true
   },
   "outputs": [],
   "source": [
    "#imports\n",
    "from bs4 import BeautifulSoup\n",
    "import requests"
   ]
  },
  {
   "cell_type": "code",
   "execution_count": 2,
   "metadata": {
    "collapsed": true
   },
   "outputs": [],
   "source": [
    "import pandas as pd\n",
    "from pandas import Series,DataFrame"
   ]
  },
  {
   "cell_type": "code",
   "execution_count": 4,
   "metadata": {
    "collapsed": true
   },
   "outputs": [],
   "source": [
    "# set the url\n",
    "url = 'http://www.ucop.edu/operating-budget/budgets-and-reports/legislative-reports/2013-14-legislative-session.html'"
   ]
  },
  {
   "cell_type": "code",
   "execution_count": 6,
   "metadata": {
    "collapsed": false
   },
   "outputs": [],
   "source": [
    "# use requests to grab content\n",
    "result = requests.get(url)\n",
    "c = result.content\n",
    "\n",
    "# set as a BeautifulSoup object\n",
    "soup = BeautifulSoup(c)"
   ]
  },
  {
   "cell_type": "code",
   "execution_count": 7,
   "metadata": {
    "collapsed": true
   },
   "outputs": [],
   "source": [
    "# go to correct section\n",
    "summary = soup.find('div',{'class':'list-land','id':'content'})\n",
    "\n",
    "# find all tables\n",
    "tables = summary.find_all('table')"
   ]
  },
  {
   "cell_type": "markdown",
   "metadata": {},
   "source": [
    "Now we need to use Beautiful Soup to find the table entries. A 'td' tag defines a standard cell in an HTML table. The 'tr' tag defines a row in an HTML table.\n",
    "\n",
    "We'll parse through our tables object and try to find each cell using the findALL('td') method."
   ]
  },
  {
   "cell_type": "code",
   "execution_count": 8,
   "metadata": {
    "collapsed": false
   },
   "outputs": [
    {
     "name": "stdout",
     "output_type": "stream",
     "text": [
      "1 08/01/13 2013-14 (EDU 92495) Proposed Capital Outlay Projects (2013-14 only) (pdf) 2 09/01/13 2014-15  (EDU 92495) Proposed Capital Outlay Projects (pdf) 3 11/01/13 Utilization of Classroom and Teaching Laboratories (pdf) 4 11/01/13 Instruction and Research Space Summary & Analysis (pdf) 5 11/15/13 Statewide Energy Partnership Program (pdf) 6 11/30/13 2013-23 Capital Financial Plan (pdf) 7 11/30/13 Projects Savings Funded from Capital Outlay Bond Funds (pdf) 8 12/01/13 Streamlined Capital Projects Funded from Capital (pdf) 9 01/01/14 Annual General Obligation Bonds Accountability (pdf) 10 01/01/14 Small Business Utilization (pdf) 11 01/01/14 Institutional Financial Aid Programs - Preliminary report (pdf) 12 01/10/14 Summer Enrollment (pdf) 13 01/15/14 Contracting Out for Services at Newly Developed Facilities (pdf) 14 03/01/14 Performance Measures (pdf) 15 03/01/14 Entry Level Writing Requirement (pdf) 16 03/31/14 Annual Report on Student Financial Support (pdf) 17 04/01/14 Unique Statewide Pupil Identifier (pdf) 18 04/01/14 Riverside School of Medicine (pdf) 19 04/01/14 SAPEP Funds and Outcomes - N/A 20 05/15/14 Receipt and Use of Lottery Funds (pdf) 21 07/01/14 Cogeneration and Energy Consv Major Capital Projects (pdf) \n",
      "\n",
      "\n",
      " Future Reports \n",
      "24 12- Breast Cancer Research Fund 25 12-31-15 Cigarette and Tobacco Products Surtax Research Program 26 01-01-16 Best Value Program 27 01-01-16 California Subject Matter Programs 28 04-01-16 COSMOS Program Outcomes\n"
     ]
    }
   ],
   "source": [
    "# part 2 / last Lecture \n",
    "\n",
    "# set up empty data list\n",
    "data = []\n",
    "\n",
    "# set rows as first indexed object in tables with a row\n",
    "rows = tables[0].findAll('tr')\n",
    "\n",
    "# now grab every html cell in every row\n",
    "for tr in rows:\n",
    "    cols = tr.findAll('td')\n",
    "    # check if text is in the row\n",
    "    for td in cols:\n",
    "        text = td.find(text=True)\n",
    "        print text,\n",
    "        data.append(text)"
   ]
  },
  {
   "cell_type": "code",
   "execution_count": 9,
   "metadata": {
    "collapsed": false
   },
   "outputs": [
    {
     "data": {
      "text/plain": [
       "[u'1',\n",
       " u'08/01/13',\n",
       " u'2013-14 (EDU 92495) Proposed Capital Outlay Projects (2013-14 only) (pdf)',\n",
       " u'2',\n",
       " u'09/01/13',\n",
       " u'2014-15\\xa0 (EDU 92495) Proposed Capital Outlay Projects (pdf)',\n",
       " u'3',\n",
       " u'11/01/13',\n",
       " u'Utilization of Classroom and Teaching Laboratories (pdf)',\n",
       " u'4',\n",
       " u'11/01/13',\n",
       " u'Instruction and Research Space Summary & Analysis (pdf)',\n",
       " u'5',\n",
       " u'11/15/13',\n",
       " u'Statewide Energy Partnership Program (pdf)',\n",
       " u'6',\n",
       " u'11/30/13',\n",
       " u'2013-23 Capital Financial Plan (pdf)',\n",
       " u'7',\n",
       " u'11/30/13',\n",
       " u'Projects Savings Funded from Capital Outlay Bond Funds (pdf)',\n",
       " u'8',\n",
       " u'12/01/13',\n",
       " u'Streamlined Capital Projects Funded from Capital (pdf)',\n",
       " u'9',\n",
       " u'01/01/14',\n",
       " u'Annual General Obligation Bonds Accountability (pdf)',\n",
       " u'10',\n",
       " u'01/01/14',\n",
       " u'Small Business Utilization (pdf)',\n",
       " u'11',\n",
       " u'01/01/14',\n",
       " u'Institutional Financial Aid Programs - Preliminary report (pdf)',\n",
       " u'12',\n",
       " u'01/10/14',\n",
       " u'Summer Enrollment (pdf)',\n",
       " u'13',\n",
       " u'01/15/14',\n",
       " u'Contracting Out for Services at Newly Developed Facilities (pdf)',\n",
       " u'14',\n",
       " u'03/01/14',\n",
       " u'Performance Measures (pdf)',\n",
       " u'15',\n",
       " u'03/01/14',\n",
       " u'Entry Level Writing Requirement (pdf)',\n",
       " u'16',\n",
       " u'03/31/14',\n",
       " u'Annual Report on Student\\xa0Financial Support (pdf)',\n",
       " u'17',\n",
       " u'04/01/14',\n",
       " u'Unique Statewide Pupil Identifier (pdf)',\n",
       " u'18',\n",
       " u'04/01/14',\n",
       " u'Riverside School of Medicine (pdf)',\n",
       " u'19',\n",
       " u'04/01/14',\n",
       " u'SAPEP Funds and Outcomes - N/A',\n",
       " u'20',\n",
       " u'05/15/14',\n",
       " u'Receipt and Use of Lottery Funds (pdf)',\n",
       " u'21',\n",
       " u'07/01/14',\n",
       " u'Cogeneration and Energy Consv Major Capital Projects (pdf)',\n",
       " u'\\n',\n",
       " u'\\n',\n",
       " u'\\n',\n",
       " u'\\xa0',\n",
       " u'Future Reports',\n",
       " u'\\n',\n",
       " u'24',\n",
       " u'12-',\n",
       " u'Breast Cancer Research Fund',\n",
       " u'25',\n",
       " u'12-31-15',\n",
       " u'Cigarette and Tobacco Products Surtax Research Program',\n",
       " u'26',\n",
       " u'01-01-16',\n",
       " u'Best Value Program',\n",
       " u'27',\n",
       " u'01-01-16',\n",
       " u'California Subject Matter Programs',\n",
       " u'28',\n",
       " u'04-01-16',\n",
       " u'COSMOS Program Outcomes']"
      ]
     },
     "execution_count": 9,
     "metadata": {},
     "output_type": "execute_result"
    }
   ],
   "source": [
    "# see what the data list looks like\n",
    "data"
   ]
  },
  {
   "cell_type": "code",
   "execution_count": 10,
   "metadata": {
    "collapsed": true
   },
   "outputs": [],
   "source": [
    "# set up empty lists\n",
    "reports = []\n",
    "date = []\n",
    "\n",
    "# set index counter\n",
    "index = 0\n",
    "\n",
    "# find the PDF cells\n",
    "for item in data:\n",
    "    if 'pdf' in item:\n",
    "        # add the date and reports\n",
    "        date.append(data[index-1])\n",
    "        \n",
    "        # get rid of \\xa0\n",
    "        reports.append(item.replace(u'\\xa0', u' '))\n",
    "\n",
    "    index += 1"
   ]
  },
  {
   "cell_type": "code",
   "execution_count": null,
   "metadata": {
    "collapsed": true
   },
   "outputs": [],
   "source": [
    "# now organize data into a Pandas DataFrame\n"
   ]
  }
 ],
 "metadata": {
  "kernelspec": {
   "display_name": "Python 2",
   "language": "python",
   "name": "python2"
  },
  "language_info": {
   "codemirror_mode": {
    "name": "ipython",
    "version": 2
   },
   "file_extension": ".py",
   "mimetype": "text/x-python",
   "name": "python",
   "nbconvert_exporter": "python",
   "pygments_lexer": "ipython2",
   "version": "2.7.10"
  }
 },
 "nbformat": 4,
 "nbformat_minor": 0
}
