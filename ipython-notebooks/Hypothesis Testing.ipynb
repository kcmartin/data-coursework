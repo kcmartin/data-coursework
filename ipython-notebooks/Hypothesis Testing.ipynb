{
 "cells": [
  {
   "cell_type": "markdown",
   "metadata": {},
   "source": [
    "Hypothesis testing is the use of statistics to determine the probability that a given hypothesis is true.\n",
    "\n",
    "Hypothesis Testing can be broken into 10 basic steps.\n",
    "\n",
    "1.) Data Testing\n",
    "\n",
    "2.) Assumptions\n",
    "\n",
    "3.) Hypothesis\n",
    "\n",
    "4.) Test Statistic\n",
    "\n",
    "5.) Distribution of Test Statistic\n",
    "\n",
    "6.) Decision Rule\n",
    "\n",
    "7.) Calculation of Test Statistic\n",
    "\n",
    "8.) Statistical Decision\n",
    "\n",
    "9.) Conclusion\n",
    "\n",
    "10.) p-values"
   ]
  },
  {
   "cell_type": "markdown",
   "metadata": {},
   "source": [
    "No code samples for this one, but here are additional resources:\n",
    "\n",
    "1.) Wolfram http://mathworld.wolfram.com/HypothesisTesting.html\n",
    "\n",
    "2.) Stat Trek http://stattrek.com/hypothesis-test/hypothesis-testing.aspx\n",
    "\n",
    "3.) Wikipedia http://en.wikipedia.org/wiki/Statistical_hypothesis_testing\n",
    "\n",
    "4.) Probability Book Sample http://www.sagepub.com/upm-data/40007_Chapter8.pdf"
   ]
  },
  {
   "cell_type": "code",
   "execution_count": null,
   "metadata": {
    "collapsed": true
   },
   "outputs": [],
   "source": []
  }
 ],
 "metadata": {
  "kernelspec": {
   "display_name": "Python 2",
   "language": "python",
   "name": "python2"
  },
  "language_info": {
   "codemirror_mode": {
    "name": "ipython",
    "version": 2
   },
   "file_extension": ".py",
   "mimetype": "text/x-python",
   "name": "python",
   "nbconvert_exporter": "python",
   "pygments_lexer": "ipython2",
   "version": "2.7.10"
  }
 },
 "nbformat": 4,
 "nbformat_minor": 0
}
